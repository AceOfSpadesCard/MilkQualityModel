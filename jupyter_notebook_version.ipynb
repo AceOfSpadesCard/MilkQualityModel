{
  "nbformat": 4,
  "nbformat_minor": 0,
  "metadata": {
    "colab": {
      "provenance": []
    },
    "kernelspec": {
      "name": "python3",
      "display_name": "Python 3"
    },
    "language_info": {
      "name": "python"
    }
  },
  "cells": [
    {
      "cell_type": "code",
      "source": [
        "import keras\n",
        "import pandas as pd\n",
        "import numpy as np\n",
        "from sklearn.model_selection import train_test_split\n",
        "file=pd.read_csv(\"data.txt\")\n",
        "bact_count=list(file[\"bacterial_count\"])\n",
        "scc=list(file[\"somatic_cell_count\"])\n",
        "data=[]\n",
        "for i in range(0,2000,1):\n",
        "  data.append([bact_count[i],scc[i]])\n",
        "print(data)\n",
        "labels=list(file[\"status\"])\n",
        "print(labels)\n",
        "labels=np.array(labels)\n",
        "data=np.array(data)\n",
        "print(data.shape)\n",
        "train_data, test_data, train_labels, test_labels = train_test_split(data, labels, test_size = 0.2)\n",
        "print(train_data.shape)\n",
        "print(train_data[0].shape)\n",
        "# Building the Model\n",
        "model = keras.Sequential([\n",
        "    keras.layers.Flatten(input_shape=train_data[0].shape),\n",
        "    keras.layers.Dense(128, activation='relu'),\n",
        "    keras.layers.Dense(2, activation='softmax'),\n",
        "])\n",
        "\n",
        "# Compiling the Model\n",
        "model.compile(optimizer='adam',\n",
        "              loss='sparse_categorical_crossentropy',\n",
        "              metrics=['accuracy'])\n",
        "\n",
        "# Fitting/Training the model\n",
        "model.fit(train_data, train_labels, epochs=250)\n"
      ],
      "metadata": {
        "id": "hPXw4tXZZqTJ"
      },
      "execution_count": null,
      "outputs": []
    },
    {
      "cell_type": "code",
      "source": [
        "bacterial_input=float(input(\"Enter a Bacterial Count (# CFUs per 1 mL) @ 30 Degrees Celsius:\"))\n",
        "scc_input=float(input(\"Enter a Somatic Cell Count for every 1 mL:\"))\n",
        "input_data=[bacterial_input,scc_input]\n",
        "input_data=np.array(input_data)\n",
        "input_data_reshaped=np.reshape(input_data,(1,2,))\n",
        "prediction=model.predict(input_data_reshaped)\n",
        "prediction=prediction[0]\n",
        "max_index=np.argmax(prediction)\n",
        "print(prediction)\n",
        "if max_index==0:\n",
        "  print(\"Safe for Consumption\")\n",
        "else:\n",
        "  print(\"Not Safe for Consumption\")"
      ],
      "metadata": {
        "id": "zPzwR7-fIw3_"
      },
      "execution_count": null,
      "outputs": []
    }
  ]
}
